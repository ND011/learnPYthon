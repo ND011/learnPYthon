{
 "cells": [
  {
   "cell_type": "code",
   "execution_count": null,
   "id": "c1583945-bea6-4265-a9a1-741d09225882",
   "metadata": {},
   "outputs": [
    {
     "ename": "",
     "evalue": "",
     "output_type": "error",
     "traceback": [
      "\u001b[1;31mThe kernel failed to start due to the missing module 'packaging'. Consider installing this module.\n",
      "\u001b[1;31mClick <a href='https://aka.ms/kernelFailuresMissingModule'>here</a> for more info."
     ]
    }
   ],
   "source": [
    "# Very simple neural network with no hidden layers.\n",
    "# Sequential creates the neural network.\n",
    "import numpy as np\n",
    "import tensorflow as tf\n",
    "import matplotlib.pyplot as plt\n",
    "from tensorflow import keras\n",
    "from sklearn.model_selection import train_test_split\n",
    "\n"
   ]
  },
  {
   "cell_type": "code",
   "execution_count": 23,
   "id": "5123cef1-b52d-4d11-9ce2-7962b7f40203",
   "metadata": {},
   "outputs": [],
   "source": [
    "# Load MNIST dataset\n",
    "(X_train, y_train), (X_test, y_test) = keras.datasets.mnist.load_data()\n"
   ]
  },
  {
   "cell_type": "code",
   "execution_count": 7,
   "id": "1b0486fe-d08c-42b4-95e3-00dadf5a82ac",
   "metadata": {},
   "outputs": [],
   "source": [
    "#Reshape + normalize.\n",
    "#Decreases the range of all the inputs from 255 TO 0 to 1.\n",
    "X_train_flattened = X_train.reshape((60000, 784)) / 255.0\n",
    "X_test_flattened = X_test.reshape((10000, 784)) / 255.0\n"
   ]
  },
  {
   "cell_type": "code",
   "execution_count": null,
   "id": "f8e65749-f5d0-4582-be4a-8bfeb4f45c79",
   "metadata": {},
   "outputs": [],
   "source": [
    "# Create the model\n",
    "model = keras.Sequential([\n",
    "    keras.layers.Dense(10, input_shape=(784,), activation='sigmoid')\n",
    "])\n",
    "\n",
    "# Compile the model\n",
    "model.compile(optimizer='adam',\n",
    "              loss='sparse_categorical_crossentropy',\n",
    "              metrics=['accuracy'])\n",
    "\n",
    "# Fit the model\n",
    "model.fit(X_train_flattened, y_train, epochs=6, validation_data=(X_test_flattened, y_test))\n"
   ]
  },
  {
   "cell_type": "code",
   "execution_count": null,
   "id": "2c957659-47ae-4ff6-a9c1-d884a5685f99",
   "metadata": {},
   "outputs": [],
   "source": [
    "#Evaluation\n",
    "model.evaluate(X_test_flattened, y_test)\n"
   ]
  },
  {
   "cell_type": "code",
   "execution_count": null,
   "id": "3b2bd128-9b03-481d-bf58-dba59e474b34",
   "metadata": {},
   "outputs": [],
   "source": [
    "#Checks if the predicted output is correct or not compared to actual output.\n",
    "y_predicted = model.predict(X_test_flattened)\n",
    "print(\"Checks if the predicted output is correct or not compared to actual output.\", y_predicted[0])\n",
    "\n",
    "plt.matshow(X_test[0])\n",
    "plt.show()"
   ]
  },
  {
   "cell_type": "code",
   "execution_count": null,
   "id": "b1d5ec21-da94-4e52-bb03-3118e44a3a0f",
   "metadata": {},
   "outputs": [],
   "source": [
    "#np.argmax finds a manimum element from an array & return the index of it.\n",
    "np.argmax(y_predicted[0])\n",
    "y_predicted_labels = [np.argmax(i) for i in y_predicted]\n",
    "print(y_predicted[:5])\n"
   ]
  },
  {
   "cell_type": "code",
   "execution_count": null,
   "id": "e56234f8-44bf-4798-9eb1-023054044eff",
   "metadata": {},
   "outputs": [],
   "source": [
    "#Confusion matrix\n",
    "cm = tf.math.confusion_matrix(labels=y_test, predictions=y_predicted_labels)\n",
    "print(cm)\n"
   ]
  },
  {
   "cell_type": "code",
   "execution_count": null,
   "id": "49a43f78-64c1-4868-a6f4-5b667040fe3d",
   "metadata": {},
   "outputs": [],
   "source": [
    "#Plotting \n",
    "import seaborn as sn\n",
    "plt.figure(figsize = (10,7))\n",
    "sn.heatmap(cm, annot = True, fmt='d')\n",
    "plt.xlabel('Predicted')\n",
    "plt.ylabel('Actual')\n",
    "plt.show()\n"
   ]
  },
  {
   "cell_type": "code",
   "execution_count": null,
   "id": "d27a2de1-7d92-48c7-87bf-af753711a683",
   "metadata": {},
   "outputs": [],
   "source": []
  }
 ],
 "metadata": {
  "kernelspec": {
   "display_name": "Python 3",
   "language": "python",
   "name": "python3"
  },
  "language_info": {
   "codemirror_mode": {
    "name": "ipython",
    "version": 3
   },
   "file_extension": ".py",
   "mimetype": "text/x-python",
   "name": "python",
   "nbconvert_exporter": "python",
   "pygments_lexer": "ipython3",
   "version": "3.12.4"
  }
 },
 "nbformat": 4,
 "nbformat_minor": 5
}
